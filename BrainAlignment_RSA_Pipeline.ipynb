{
  "cells": [
    {
      "cell_type": "markdown",
      "metadata": {
        "id": "view-in-github",
        "colab_type": "text"
      },
      "source": [
        "<a href=\"https://colab.research.google.com/github/rakshittonmoy/LLM-Brain-alignment/blob/main/BrainAlignment_RSA_Pipeline.ipynb\" target=\"_parent\"><img src=\"https://colab.research.google.com/assets/colab-badge.svg\" alt=\"Open In Colab\"/></a>"
      ]
    },
    {
      "cell_type": "markdown",
      "metadata": {
        "id": "gCms94JumT7z"
      },
      "source": [
        "# Loading fMRI data & RSA\n",
        "\n",
        "---\n",
        "_This code is loosely based on a previous notebook by [Marianne de Heer Kloots](https://mdhk.net/)_\n",
        "\n",
        "This notebook provides instructions to load fMRI data from the [Pereira](https://www.nature.com/articles/s41467-018-03068-4) dataset and set it up for representational similarity analysis.\n",
        "\n",
        "Note that this code will show you how to analyse data from only **one participant**, but you should consider all **16 participants** for your projects.\n",
        "\n",
        "The fMRI recordings from all participants are available in [this](https://drive.google.com/drive/folders/1MjFOyJ9zYwec2bJqL4eNXO4Mlilt0oP8) GG Drive folder by courtesy of the authors of the original paper.\n",
        "\n",
        "Alright, let's start by loading data from participant M01. Add a shortcut to the M01 folder to your GG Drive, then mount drive so that the folder becomes available in this notebook."
      ]
    },
    {
      "cell_type": "code",
      "source": [
        "import numpy as np\n",
        "from scipy.io import loadmat\n",
        "from pathlib import Path\n",
        "from scipy.stats import spearmanr\n",
        "from sklearn.preprocessing import normalize\n",
        "import random"
      ],
      "metadata": {
        "id": "JuTI_FGV9I-d"
      },
      "execution_count": 4,
      "outputs": []
    },
    {
      "cell_type": "code",
      "execution_count": 9,
      "metadata": {
        "id": "847BzzrroI7S"
      },
      "outputs": [],
      "source": [
        "# replace with the path from your GG Drive file system :)\n",
        "\n",
        "!tar -xf '/content/drive/MyDrive/Pereira/M01.tar'"
      ]
    },
    {
      "cell_type": "code",
      "source": [
        "from google.colab import drive\n",
        "drive.mount('/content/drive')"
      ],
      "metadata": {
        "colab": {
          "base_uri": "https://localhost:8080/"
        },
        "id": "_klTMCZJyORa",
        "outputId": "38ad64a2-bb78-4cc9-f001-8cc1a41ec00d"
      },
      "execution_count": 2,
      "outputs": [
        {
          "output_type": "stream",
          "name": "stdout",
          "text": [
            "Mounted at /content/drive\n"
          ]
        }
      ]
    },
    {
      "cell_type": "markdown",
      "metadata": {
        "id": "ZbwVF_2kp6qC"
      },
      "source": [
        "Now, let's load the fMRI recorgings for the condition we're interested in—the original experiment included two additional conditions (`data_180concepts_sentences.mat` and `data_180concepts_wordclouds.mat`), but we do not consider them here.\n",
        "\n",
        "Note that we're going to work with data that was originally saved in Matlab, so this will create some 'weird' array structures and indexing issues."
      ]
    },
    {
      "cell_type": "code",
      "execution_count": 5,
      "metadata": {
        "id": "aiK-BtvdpqKB"
      },
      "outputs": [],
      "source": [
        "from scipy.io import loadmat\n",
        "fmri_data = loadmat('M01/data_180concepts_pictures.mat')"
      ]
    },
    {
      "cell_type": "markdown",
      "source": [
        "The actual fMRI responses for the 180 concepts are stored here:"
      ],
      "metadata": {
        "id": "NLV3ky5A3t2k"
      }
    },
    {
      "cell_type": "code",
      "source": [
        "fmri_data['examples'].shape"
      ],
      "metadata": {
        "colab": {
          "base_uri": "https://localhost:8080/"
        },
        "id": "B8PHuFxP32GC",
        "outputId": "158fd826-cfa8-4753-e08e-a4ed44734d86"
      },
      "execution_count": 7,
      "outputs": [
        {
          "output_type": "execute_result",
          "data": {
            "text/plain": [
              "(180, 190042)"
            ]
          },
          "metadata": {},
          "execution_count": 7
        }
      ]
    },
    {
      "cell_type": "markdown",
      "source": [
        "Each of the 190042 measures corresponds to a specific voxel, but we're not interested in all of them—we should isolate the ones corresponding to the brain network we're analysing. For the rest of the notebook, we'll assume we're interested in the LH language network.\n",
        "\n",
        "To isolate its corresponding voxels, we'll take advantage of the information stored in `fmri_data['meta']`, which will allow us to perform the following operations:\n",
        "\n",
        "1. Map the brain network we're interested in to a number of specific regions of interest (ROIs)\n",
        "2. Map the ROIs to specific column indexes\n",
        "3. Use the indexes to slice `fmri_data['examples']`\n",
        "\n",
        "Let's start by 1. Recall that fMRI data was recorded in multiple brain networks, which are displayed below. The networks that are relevant for the projects are the following:\n",
        "\n",
        "* Task-positive network (here referred to as multiple-demand system): `MD`\n",
        "* Default mode network: `DMN`\n",
        "* Visual network: `visual`\n",
        "* Left-hemisphere language network: `languageLH`\n",
        "* Right-hemisphere language network: `languageRH`"
      ],
      "metadata": {
        "id": "XBzhUr_K34xx"
      }
    },
    {
      "cell_type": "code",
      "execution_count": 8,
      "metadata": {
        "colab": {
          "base_uri": "https://localhost:8080/"
        },
        "id": "aU6bFg9zqtoO",
        "outputId": "7d547350-766e-4555-96be-0e29aee15ccc"
      },
      "outputs": [
        {
          "output_type": "stream",
          "name": "stdout",
          "text": [
            "(15,)\n"
          ]
        },
        {
          "output_type": "execute_result",
          "data": {
            "text/plain": [
              "array([array(['aal_1ofN'], dtype='<U8'),\n",
              "       array(['languageParcelsConservative_aal'], dtype='<U31'),\n",
              "       array(['languageParcels_aal'], dtype='<U19'),\n",
              "       array(['semantic_aal'], dtype='<U12'),\n",
              "       array(['multipleDemand_aal'], dtype='<U18'),\n",
              "       array(['MD'], dtype='<U2'), array(['DMN'], dtype='<U3'),\n",
              "       array(['languageLH'], dtype='<U10'),\n",
              "       array(['languageRH'], dtype='<U10'),\n",
              "       array(['visual_body'], dtype='<U11'),\n",
              "       array(['visual_face'], dtype='<U11'),\n",
              "       array(['visual_object'], dtype='<U13'),\n",
              "       array(['visual_scene'], dtype='<U12'),\n",
              "       array(['visual'], dtype='<U6'), array(['gordon'], dtype='<U6')],\n",
              "      dtype=object)"
            ]
          },
          "metadata": {},
          "execution_count": 8
        }
      ],
      "source": [
        "print(fmri_data['meta']['atlases'][0][0][0].shape)\n",
        "fmri_data['meta']['atlases'][0][0][0] # all the zeros are because of the matlab weird data structures"
      ]
    },
    {
      "cell_type": "markdown",
      "metadata": {
        "id": "Z32oGd6vwHZn"
      },
      "source": [
        "Each network corresponds to fMRI recordings from multiple ROIs, so now we have to find a way to understand which ROIs should be considered for each network.\n",
        "\n",
        "The complete list of ROIs is available below."
      ]
    },
    {
      "cell_type": "code",
      "execution_count": 9,
      "metadata": {
        "colab": {
          "base_uri": "https://localhost:8080/"
        },
        "id": "DoAh5wy_ve-d",
        "outputId": "a5604d12-2692-4eb6-8460-0d05976d1f49",
        "collapsed": true
      },
      "outputs": [
        {
          "output_type": "stream",
          "name": "stdout",
          "text": [
            "(15,)\n"
          ]
        },
        {
          "output_type": "execute_result",
          "data": {
            "text/plain": [
              "array([array([[array(['Precentral_L'], dtype='<U12')],\n",
              "              [array(['Precentral_R'], dtype='<U12')],\n",
              "              [array(['Frontal_Sup_L'], dtype='<U13')],\n",
              "              [array(['Frontal_Sup_R'], dtype='<U13')],\n",
              "              [array(['Frontal_Sup_Orb_L'], dtype='<U17')],\n",
              "              [array(['Frontal_Sup_Orb_R'], dtype='<U17')],\n",
              "              [array(['Frontal_Mid_L'], dtype='<U13')],\n",
              "              [array(['Frontal_Mid_R'], dtype='<U13')],\n",
              "              [array(['Frontal_Mid_Orb_L'], dtype='<U17')],\n",
              "              [array(['Frontal_Mid_Orb_R'], dtype='<U17')],\n",
              "              [array(['Frontal_Inf_Oper_L'], dtype='<U18')],\n",
              "              [array(['Frontal_Inf_Oper_R'], dtype='<U18')],\n",
              "              [array(['Frontal_Inf_Tri_L'], dtype='<U17')],\n",
              "              [array(['Frontal_Inf_Tri_R'], dtype='<U17')],\n",
              "              [array(['Frontal_Inf_Orb_L'], dtype='<U17')],\n",
              "              [array(['Frontal_Inf_Orb_R'], dtype='<U17')],\n",
              "              [array(['Rolandic_Oper_L'], dtype='<U15')],\n",
              "              [array(['Rolandic_Oper_R'], dtype='<U15')],\n",
              "              [array(['Supp_Motor_Area_L'], dtype='<U17')],\n",
              "              [array(['Supp_Motor_Area_R'], dtype='<U17')],\n",
              "              [array(['Olfactory_L'], dtype='<U11')],\n",
              "              [array(['Olfactory_R'], dtype='<U11')],\n",
              "              [array(['Frontal_Sup_Medial_L'], dtype='<U20')],\n",
              "              [array(['Frontal_Sup_Medial_R'], dtype='<U20')],\n",
              "              [array(['Frontal_Med_Orb_L'], dtype='<U17')],\n",
              "              [array(['Frontal_Med_Orb_R'], dtype='<U17')],\n",
              "              [array(['Rectus_L'], dtype='<U8')],\n",
              "              [array(['Rectus_R'], dtype='<U8')],\n",
              "              [array(['Insula_L'], dtype='<U8')],\n",
              "              [array(['Insula_R'], dtype='<U8')],\n",
              "              [array(['Cingulum_Ant_L'], dtype='<U14')],\n",
              "              [array(['Cingulum_Ant_R'], dtype='<U14')],\n",
              "              [array(['Cingulum_Mid_L'], dtype='<U14')],\n",
              "              [array(['Cingulum_Mid_R'], dtype='<U14')],\n",
              "              [array(['Cingulum_Post_L'], dtype='<U15')],\n",
              "              [array(['Cingulum_Post_R'], dtype='<U15')],\n",
              "              [array(['Hippocampus_L'], dtype='<U13')],\n",
              "              [array(['Hippocampus_R'], dtype='<U13')],\n",
              "              [array(['ParaHippocampal_L'], dtype='<U17')],\n",
              "              [array(['ParaHippocampal_R'], dtype='<U17')],\n",
              "              [array(['Amygdala_L'], dtype='<U10')],\n",
              "              [array(['Amygdala_R'], dtype='<U10')],\n",
              "              [array(['Calcarine_L'], dtype='<U11')],\n",
              "              [array(['Calcarine_R'], dtype='<U11')],\n",
              "              [array(['Cuneus_L'], dtype='<U8')],\n",
              "              [array(['Cuneus_R'], dtype='<U8')],\n",
              "              [array(['Lingual_L'], dtype='<U9')],\n",
              "              [array(['Lingual_R'], dtype='<U9')],\n",
              "              [array(['Occipital_Sup_L'], dtype='<U15')],\n",
              "              [array(['Occipital_Sup_R'], dtype='<U15')],\n",
              "              [array(['Occipital_Mid_L'], dtype='<U15')],\n",
              "              [array(['Occipital_Mid_R'], dtype='<U15')],\n",
              "              [array(['Occipital_Inf_L'], dtype='<U15')],\n",
              "              [array(['Occipital_Inf_R'], dtype='<U15')],\n",
              "              [array(['Fusiform_L'], dtype='<U10')],\n",
              "              [array(['Fusiform_R'], dtype='<U10')],\n",
              "              [array(['Postcentral_L'], dtype='<U13')],\n",
              "              [array(['Postcentral_R'], dtype='<U13')],\n",
              "              [array(['Parietal_Sup_L'], dtype='<U14')],\n",
              "              [array(['Parietal_Sup_R'], dtype='<U14')],\n",
              "              [array(['Parietal_Inf_L'], dtype='<U14')],\n",
              "              [array(['Parietal_Inf_R'], dtype='<U14')],\n",
              "              [array(['SupraMarginal_L'], dtype='<U15')],\n",
              "              [array(['SupraMarginal_R'], dtype='<U15')],\n",
              "              [array(['Angular_L'], dtype='<U9')],\n",
              "              [array(['Angular_R'], dtype='<U9')],\n",
              "              [array(['Precuneus_L'], dtype='<U11')],\n",
              "              [array(['Precuneus_R'], dtype='<U11')],\n",
              "              [array(['Paracentral_Lobule_L'], dtype='<U20')],\n",
              "              [array(['Paracentral_Lobule_R'], dtype='<U20')],\n",
              "              [array(['Caudate_L'], dtype='<U9')],\n",
              "              [array(['Caudate_R'], dtype='<U9')],\n",
              "              [array(['Putamen_L'], dtype='<U9')],\n",
              "              [array(['Putamen_R'], dtype='<U9')],\n",
              "              [array(['Pallidum_L'], dtype='<U10')],\n",
              "              [array(['Pallidum_R'], dtype='<U10')],\n",
              "              [array(['Thalamus_L'], dtype='<U10')],\n",
              "              [array(['Thalamus_R'], dtype='<U10')],\n",
              "              [array(['Heschl_L'], dtype='<U8')],\n",
              "              [array(['Heschl_R'], dtype='<U8')],\n",
              "              [array(['Temporal_Sup_L'], dtype='<U14')],\n",
              "              [array(['Temporal_Sup_R'], dtype='<U14')],\n",
              "              [array(['Temporal_Pole_Sup_L'], dtype='<U19')],\n",
              "              [array(['Temporal_Pole_Sup_R'], dtype='<U19')],\n",
              "              [array(['Temporal_Mid_L'], dtype='<U14')],\n",
              "              [array(['Temporal_Mid_R'], dtype='<U14')],\n",
              "              [array(['Temporal_Pole_Mid_L'], dtype='<U19')],\n",
              "              [array(['Temporal_Pole_Mid_R'], dtype='<U19')],\n",
              "              [array(['Temporal_Inf_L'], dtype='<U14')],\n",
              "              [array(['Temporal_Inf_R'], dtype='<U14')],\n",
              "              [array(['Cerebelum_Crus1_L'], dtype='<U17')],\n",
              "              [array(['Cerebelum_Crus1_R'], dtype='<U17')],\n",
              "              [array(['Cerebelum_Crus2_L'], dtype='<U17')],\n",
              "              [array(['Cerebelum_Crus2_R'], dtype='<U17')],\n",
              "              [array(['Cerebelum_3_L'], dtype='<U13')],\n",
              "              [array(['Cerebelum_3_R'], dtype='<U13')],\n",
              "              [array(['Cerebelum_4_5_L'], dtype='<U15')],\n",
              "              [array(['Cerebelum_4_5_R'], dtype='<U15')],\n",
              "              [array(['Cerebelum_6_L'], dtype='<U13')],\n",
              "              [array(['Cerebelum_6_R'], dtype='<U13')],\n",
              "              [array(['Cerebelum_7b_L'], dtype='<U14')],\n",
              "              [array(['Cerebelum_7b_R'], dtype='<U14')],\n",
              "              [array(['Cerebelum_8_L'], dtype='<U13')],\n",
              "              [array(['Cerebelum_8_R'], dtype='<U13')],\n",
              "              [array(['Cerebelum_9_L'], dtype='<U13')],\n",
              "              [array(['Cerebelum_9_R'], dtype='<U13')],\n",
              "              [array(['Cerebelum_10_L'], dtype='<U14')],\n",
              "              [array(['Cerebelum_10_R'], dtype='<U14')],\n",
              "              [array(['Vermis_1_2'], dtype='<U10')],\n",
              "              [array(['Vermis_3'], dtype='<U8')],\n",
              "              [array(['Vermis_4_5'], dtype='<U10')],\n",
              "              [array(['Vermis_6'], dtype='<U8')],\n",
              "              [array(['Vermis_7'], dtype='<U8')],\n",
              "              [array(['Vermis_8'], dtype='<U8')],\n",
              "              [array(['Vermis_9'], dtype='<U8')],\n",
              "              [array(['Vermis_10'], dtype='<U9')]], dtype=object),\n",
              "       array([[array(['LMidPostTemp'], dtype='<U12')],\n",
              "              [array(['LPostTemp'], dtype='<U9')],\n",
              "              [array(['LMidAntTemp'], dtype='<U11')],\n",
              "              [array(['LIFG'], dtype='<U4')],\n",
              "              [array(['LAntTemp'], dtype='<U8')],\n",
              "              [array(['LIFGorb'], dtype='<U7')],\n",
              "              [array(['LAngG'], dtype='<U5')],\n",
              "              [array(['LMFG'], dtype='<U4')]], dtype=object),\n",
              "       array([[array(['LMidPostTemp'], dtype='<U12')],\n",
              "              [array(['LPostTemp'], dtype='<U9')],\n",
              "              [array(['LMidAntTemp'], dtype='<U11')],\n",
              "              [array(['LIFG'], dtype='<U4')],\n",
              "              [array(['LAntTemp'], dtype='<U8')],\n",
              "              [array(['LIFGorb'], dtype='<U7')],\n",
              "              [array(['LAngG'], dtype='<U5')],\n",
              "              [array(['LMFG'], dtype='<U4')]], dtype=object),\n",
              "       array([[array(['LMFGant'], dtype='<U7')],\n",
              "              [array(['LMTG'], dtype='<U4')],\n",
              "              [array(['LMFGpost'], dtype='<U8')],\n",
              "              [array(['LMFGmid'], dtype='<U7')],\n",
              "              [array(['LPar'], dtype='<U4')],\n",
              "              [array(['LFus'], dtype='<U4')],\n",
              "              [array(['LIFGorb'], dtype='<U7')]], dtype=object),\n",
              "       array([[array(['L_IFGop'], dtype='<U7')],\n",
              "              [array(['R_IFGop'], dtype='<U7')],\n",
              "              [array(['L_MFG'], dtype='<U5')],\n",
              "              [array(['R_MFG'], dtype='<U5')],\n",
              "              [array(['L_MFGorb'], dtype='<U8')],\n",
              "              [array(['R_MFGorb'], dtype='<U8')],\n",
              "              [array(['L_PrecG'], dtype='<U7')],\n",
              "              [array(['R_PrecG'], dtype='<U7')],\n",
              "              [array(['L_Insula'], dtype='<U8')],\n",
              "              [array(['R_Insula'], dtype='<U8')],\n",
              "              [array(['L_SMA'], dtype='<U5')],\n",
              "              [array(['R_SMA'], dtype='<U5')],\n",
              "              [array(['L_ParInf'], dtype='<U8')],\n",
              "              [array(['R_ParInf'], dtype='<U8')],\n",
              "              [array(['L_ParSup'], dtype='<U8')],\n",
              "              [array(['R_ParSup'], dtype='<U8')],\n",
              "              [array(['L_ACC'], dtype='<U5')],\n",
              "              [array(['R_ACC'], dtype='<U5')]], dtype=object),\n",
              "       array([[array(['L_IFGop'], dtype='<U7')],\n",
              "              [array(['R_IFGop'], dtype='<U7')],\n",
              "              [array(['L_MFG'], dtype='<U5')],\n",
              "              [array(['R_MFG'], dtype='<U5')],\n",
              "              [array(['L_MFGorb'], dtype='<U8')],\n",
              "              [array(['R_MFGorb'], dtype='<U8')],\n",
              "              [array(['L_PrecG'], dtype='<U7')],\n",
              "              [array(['R_PrecG'], dtype='<U7')],\n",
              "              [array(['L_Insula'], dtype='<U8')],\n",
              "              [array(['R_Insula'], dtype='<U8')],\n",
              "              [array(['L_SMA'], dtype='<U5')],\n",
              "              [array(['R_SMA'], dtype='<U5')],\n",
              "              [array(['L_ParInf'], dtype='<U8')],\n",
              "              [array(['R_ParInf'], dtype='<U8')],\n",
              "              [array(['L_ParSup'], dtype='<U8')],\n",
              "              [array(['R_ParSup'], dtype='<U8')],\n",
              "              [array(['L_ACC'], dtype='<U5')],\n",
              "              [array(['R_ACC'], dtype='<U5')]], dtype=object),\n",
              "       array([[array(['L_PostCing'], dtype='<U10')],\n",
              "              [array(['R_PostCing'], dtype='<U10')],\n",
              "              [array(['L_FrontalMedOrb'], dtype='<U15')],\n",
              "              [array(['R_FrontalMedOrb'], dtype='<U15')],\n",
              "              [array(['L_FrontalMedSup'], dtype='<U15')],\n",
              "              [array(['R_FrontalMedSup'], dtype='<U15')],\n",
              "              [array(['L_Precun'], dtype='<U8')],\n",
              "              [array(['R_Precun'], dtype='<U8')],\n",
              "              [array(['L_TPJ'], dtype='<U5')],\n",
              "              [array(['R_TPJ'], dtype='<U5')]], dtype=object),\n",
              "       array([[array(['L_PostTemp'], dtype='<U10')],\n",
              "              [array(['L_AntTemp'], dtype='<U9')],\n",
              "              [array(['L_AngG'], dtype='<U6')],\n",
              "              [array(['L_IFG'], dtype='<U5')],\n",
              "              [array(['L_MFG'], dtype='<U5')],\n",
              "              [array(['L_IFGorb'], dtype='<U8')]], dtype=object),\n",
              "       array([[array(['R_PostTemp'], dtype='<U10')],\n",
              "              [array(['R_AntTemp'], dtype='<U9')],\n",
              "              [array(['R_AngG'], dtype='<U6')],\n",
              "              [array(['R_IFG'], dtype='<U5')],\n",
              "              [array(['R_MFG'], dtype='<U5')],\n",
              "              [array(['R_IFGorb'], dtype='<U8')]], dtype=object),\n",
              "       array([[array(['R_EBA'], dtype='<U5')],\n",
              "              [array(['L_EBA'], dtype='<U5')]], dtype=object),\n",
              "       array([[array(['R_STS'], dtype='<U5')],\n",
              "              [array(['R_FFA'], dtype='<U5')],\n",
              "              [array(['L_FFA'], dtype='<U5')],\n",
              "              [array(['R_OFA'], dtype='<U5')],\n",
              "              [array(['L_STS'], dtype='<U5')],\n",
              "              [array(['L_OFA'], dtype='<U5')]], dtype=object),\n",
              "       array([[array(['L_LOC'], dtype='<U5')],\n",
              "              [array(['R_LOC'], dtype='<U5')]], dtype=object),\n",
              "       array([[array(['R_PPA'], dtype='<U5')],\n",
              "              [array(['L_RSC'], dtype='<U5')],\n",
              "              [array(['R_RSC'], dtype='<U5')],\n",
              "              [array(['L_PPA'], dtype='<U5')],\n",
              "              [array(['R_TOS'], dtype='<U5')],\n",
              "              [array(['L_TOS'], dtype='<U5')]], dtype=object),\n",
              "       array([[array(['R_EBA'], dtype='<U5')],\n",
              "              [array(['L_EBA'], dtype='<U5')],\n",
              "              [array(['R_STS'], dtype='<U5')],\n",
              "              [array(['L_OFA'], dtype='<U5')],\n",
              "              [array(['R_FFA'], dtype='<U5')],\n",
              "              [array(['L_FFA'], dtype='<U5')],\n",
              "              [array(['R_OFA'], dtype='<U5')],\n",
              "              [array(['L_STS'], dtype='<U5')],\n",
              "              [array(['L_LOC'], dtype='<U5')],\n",
              "              [array(['R_LOC'], dtype='<U5')],\n",
              "              [array(['R_PPA'], dtype='<U5')],\n",
              "              [array(['L_RSC'], dtype='<U5')],\n",
              "              [array(['R_RSC'], dtype='<U5')],\n",
              "              [array(['L_PPA'], dtype='<U5')],\n",
              "              [array(['R_TOS'], dtype='<U5')],\n",
              "              [array(['L_TOS'], dtype='<U5')]], dtype=object),\n",
              "       array([[array(['ROI001_Default_L_-11.2_-52.4_36.5'], dtype='<U33')],\n",
              "              [array(['ROI002_SMhand_L_-18.8_-48.7_65'], dtype='<U30')],\n",
              "              [array(['ROI003_SMmouth_L_-51.8_-7.8_38.5'], dtype='<U32')],\n",
              "              [array(['ROI004_Default_L_-11.7_26.7_57'], dtype='<U30')],\n",
              "              [array(['ROI005_Visual_L_-18.4_-85.5_21.6'], dtype='<U32')],\n",
              "              [array(['ROI006_Default_L_-47.2_-58_30.8'], dtype='<U31')],\n",
              "              [array(['ROI007_FrontoParietal_L_-38.1_48.8_10.5'], dtype='<U39')],\n",
              "              [array(['ROI008_Visual_L_-16.8_-60.1_-5.4'], dtype='<U32')],\n",
              "              [array(['ROI009_FrontoParietal_L_-55.9_-47.7_-9.3'], dtype='<U40')],\n",
              "              [array(['ROI010_Auditory_L_-32_-29.3_15.6'], dtype='<U32')],\n",
              "              [array(['ROI011_None_L_-29.3_5.3_-27.4'], dtype='<U29')],\n",
              "              [array(['ROI012_CinguloParietal_L_-6.1_-26_28.5'], dtype='<U38')],\n",
              "              [array(['ROI013_RetrosplenialTemporal_L_-14.4_-57.8_18.4'], dtype='<U47')],\n",
              "              [array(['ROI014_RetrosplenialTemporal_L_-8.8_-49.8_4.2'], dtype='<U45')],\n",
              "              [array(['ROI015_Visual_L_-11.3_-83.2_3.9'], dtype='<U31')],\n",
              "              [array(['ROI016_Visual_L_-22_-58.1_1.5'], dtype='<U29')],\n",
              "              [array(['ROI017_Visual_L_-9.6_-58_3'], dtype='<U26')],\n",
              "              [array(['ROI018_None_L_-29_-35.9_-8.3'], dtype='<U28')],\n",
              "              [array(['ROI019_None_L_-18.5_-39.2_-1.1'], dtype='<U30')],\n",
              "              [array(['ROI020_Visual_L_-16.7_-46_-3.7'], dtype='<U30')],\n",
              "              [array(['ROI021_CinguloOperc_L_-16.6_-36.1_42.7'], dtype='<U38')],\n",
              "              [array(['ROI022_CinguloOperc_L_-9.4_-0.1_42.9'], dtype='<U36')],\n",
              "              [array(['ROI023_VentralAttn_L_-3.8_12.1_64.6'], dtype='<U35')],\n",
              "              [array(['ROI024_FrontoParietal_L_-5.5_29.3_44'], dtype='<U36')],\n",
              "              [array(['ROI025_Default_L_-5.6_42.2_35.1'], dtype='<U31')],\n",
              "              [array(['ROI026_Default_L_-1.7_-17.7_39.1'], dtype='<U32')],\n",
              "              [array(['ROI027_CinguloOperc_L_-8.4_14.6_33.8'], dtype='<U36')],\n",
              "              [array(['ROI028_CinguloOperc_L_-9_25.3_27.7'], dtype='<U34')],\n",
              "              [array(['ROI029_Salience_L_-10_33.9_21.5'], dtype='<U31')],\n",
              "              [array(['ROI030_SMhand_L_-10.7_-47.5_60.3'], dtype='<U32')],\n",
              "              [array(['ROI031_SMhand_L_-15.6_-33.1_66.1'], dtype='<U32')],\n",
              "              [array(['ROI032_SMhand_L_-10.9_-29.3_69.5'], dtype='<U32')],\n",
              "              [array(['ROI033_SMhand_L_-6.6_-20.4_74.2'], dtype='<U31')],\n",
              "              [array(['ROI034_CinguloOperc_L_-8_-8.7_62.9'], dtype='<U34')],\n",
              "              [array(['ROI035_SMhand_L_-10.8_-41.1_64.9'], dtype='<U32')],\n",
              "              [array(['ROI036_SMhand_L_-5_-28.2_60.4'], dtype='<U29')],\n",
              "              [array(['ROI037_SMhand_L_-5.4_-15.9_48.8'], dtype='<U31')],\n",
              "              [array(['ROI038_SMhand_L_-35.8_-29.7_54.5'], dtype='<U32')],\n",
              "              [array(['ROI039_SMmouth_L_-41.5_-12.5_50.4'], dtype='<U33')],\n",
              "              [array(['ROI040_CinguloOperc_L_-42.1_-4.5_47.3'], dtype='<U37')],\n",
              "              [array(['ROI041_DorsalAttn_L_-27.3_-6.8_46.3'], dtype='<U35')],\n",
              "              [array(['ROI042_DorsalAttn_L_-27.3_1.9_52.9'], dtype='<U34')],\n",
              "              [array(['ROI043_DorsalAttn_L_-19.8_6.4_55.7'], dtype='<U34')],\n",
              "              [array(['ROI044_Default_L_-19.5_30.1_45.5'], dtype='<U32')],\n",
              "              [array(['ROI045_SMhand_L_-36.8_-22.8_61.9'], dtype='<U32')],\n",
              "              [array(['ROI046_SMhand_L_-20.5_-24.9_64.5'], dtype='<U32')],\n",
              "              [array(['ROI047_SMhand_L_-23.4_-13.8_64.2'], dtype='<U32')],\n",
              "              [array(['ROI048_SMhand_L_-17.2_-8.6_67.9'], dtype='<U31')],\n",
              "              [array(['ROI049_DorsalAttn_L_-21.3_-0.2_62.7'], dtype='<U35')],\n",
              "              [array(['ROI050_SMhand_L_-28.6_-44.7_61.7'], dtype='<U32')],\n",
              "              [array(['ROI051_DorsalAttn_L_-31.1_-48.9_47.1'], dtype='<U36')],\n",
              "              [array(['ROI052_DorsalAttn_L_-42.9_-45_43'], dtype='<U32')],\n",
              "              [array(['ROI053_SMmouth_L_-51.5_-11.9_29.7'], dtype='<U33')],\n",
              "              [array(['ROI054_SMhand_L_-54.1_-21.3_40.8'], dtype='<U32')],\n",
              "              [array(['ROI055_DorsalAttn_L_-51.7_-30.9_39.9'], dtype='<U36')],\n",
              "              [array(['ROI056_SMhand_L_-35.2_-35.3_42'], dtype='<U30')],\n",
              "              [array(['ROI057_SMhand_L_-27.5_-37.2_61.4'], dtype='<U32')],\n",
              "              [array(['ROI058_SMhand_L_-47.2_-31.4_54.8'], dtype='<U32')],\n",
              "              [array(['ROI059_SMmouth_L_-46.1_-17.8_52.7'], dtype='<U33')],\n",
              "              [array(['ROI060_VentralAttn_L_-44.8_-54_14.6'], dtype='<U35')],\n",
              "              [array(['ROI061_VentralAttn_L_-51.6_-55.9_11.4'], dtype='<U37')],\n",
              "              [array(['ROI062_VentralAttn_L_-48.1_-40_2.4'], dtype='<U34')],\n",
              "              [array(['ROI063_CinguloOperc_L_-57.7_-40.6_35.8'], dtype='<U38')],\n",
              "              [array(['ROI064_Auditory_L_-46.3_-41.4_25.9'], dtype='<U34')],\n",
              "              [array(['ROI065_Auditory_L_-35.8_-33.5_19.9'], dtype='<U34')],\n",
              "              [array(['ROI066_Auditory_L_-52.7_-20.6_5.4'], dtype='<U33')],\n",
              "              [array(['ROI067_Auditory_L_-59.6_-38.5_16.5'], dtype='<U34')],\n",
              "              [array(['ROI068_Auditory_L_-58.7_-29.9_11.1'], dtype='<U34')],\n",
              "              [array(['ROI069_Auditory_L_-40.6_-38.3_14.5'], dtype='<U34')],\n",
              "              [array(['ROI070_Auditory_L_-33.7_-21.8_9.9'], dtype='<U33')],\n",
              "              [array(['ROI071_CinguloOperc_L_-38.7_-16_-5.3'], dtype='<U36')],\n",
              "              [array(['ROI072_CinguloOperc_L_-39.1_-1.6_-12.2'], dtype='<U38')],\n",
              "              [array(['ROI073_None_L_-33.6_17.2_-31.5'], dtype='<U30')],\n",
              "              [array(['ROI074_DorsalAttn_L_-43.6_36.3_8.5'], dtype='<U34')],\n",
              "              [array(['ROI075_VentralAttn_L_-50_20.8_10.6'], dtype='<U34')],\n",
              "              [array(['ROI076_CinguloOperc_L_-37.7_2.9_11.7'], dtype='<U36')],\n",
              "              [array(['ROI077_Auditory_L_-37.2_-14_19.4'], dtype='<U32')],\n",
              "              [array(['ROI078_FrontoParietal_L_-40.3_50.4_-4.8'], dtype='<U39')],\n",
              "              [array(['ROI079_VentralAttn_L_-47.2_39_-9.1'], dtype='<U34')],\n",
              "              [array(['ROI080_VentralAttn_L_-29.1_20.5_-14'], dtype='<U35')],\n",
              "              [array(['ROI081_CinguloOperc_L_-36.6_1.4_6.4'], dtype='<U35')],\n",
              "              [array(['ROI082_CinguloOperc_L_-37.3_8.9_-0.9'], dtype='<U36')],\n",
              "              [array(['ROI083_Salience_L_-32.5_17.2_-7.8'], dtype='<U33')],\n",
              "              [array(['ROI084_CinguloOperc_L_-28.8_23.7_8.4'], dtype='<U36')],\n",
              "              [array(['ROI085_VentralAttn_L_-44.3_33.2_-7.2'], dtype='<U36')],\n",
              "              [array(['ROI086_VentralAttn_L_-45.4_28.8_0.8'], dtype='<U35')],\n",
              "              [array(['ROI087_DorsalAttn_L_-20.4_-64.6_51.4'], dtype='<U36')],\n",
              "              [array(['ROI088_DorsalAttn_L_-25.8_-65_32.2'], dtype='<U34')],\n",
              "              [array(['ROI089_CinguloParietal_L_-12.7_-64.9_31.8'], dtype='<U41')],\n",
              "              [array(['ROI090_Visual_L_-13.7_-77.4_26.6'], dtype='<U32')],\n",
              "              [array(['ROI091_DorsalAttn_L_-9.9_-56.9_59.8'], dtype='<U35')],\n",
              "              [array(['ROI092_DorsalAttn_L_-7.1_-63.7_54.9'], dtype='<U35')],\n",
              "              [array(['ROI093_CinguloParietal_L_-10.9_-73.4_42.9'], dtype='<U41')],\n",
              "              [array(['ROI094_Default_L_-39.3_-73.9_38.3'], dtype='<U33')],\n",
              "              [array(['ROI095_DorsalAttn_L_-30_-74.1_36.1'], dtype='<U34')],\n",
              "              [array(['ROI096_FrontoParietal_L_-34.1_-61_42.4'], dtype='<U38')],\n",
              "              [array(['ROI097_Visual_L_-31.3_-84.2_9'], dtype='<U29')],\n",
              "              [array(['ROI098_Visual_L_-34.2_-86.6_-0.5'], dtype='<U32')],\n",
              "              [array(['ROI099_Visual_L_-43.4_-67.6_9.7'], dtype='<U31')],\n",
              "              [array(['ROI100_DorsalAttn_L_-46.2_-57.7_-7.9'], dtype='<U36')],\n",
              "              [array(['ROI101_CinguloOperc_L_-59.8_-4.1_8.8'], dtype='<U36')],\n",
              "              [array(['ROI102_Auditory_L_-52.2_-14.1_15.2'], dtype='<U34')],\n",
              "              [array(['ROI103_CinguloOperc_L_-55.1_-32.3_23'], dtype='<U36')],\n",
              "              [array(['ROI104_Auditory_L_-50.6_-22.4_19.2'], dtype='<U34')],\n",
              "              [array(['ROI105_CinguloOperc_L_-58.8_-23.9_31'], dtype='<U36')],\n",
              "              [array(['ROI106_DorsalAttn_L_-45.2_2.7_32.4'], dtype='<U34')],\n",
              "              [array(['ROI107_DorsalAttn_L_-34.7_5.6_34'], dtype='<U32')],\n",
              "              [array(['ROI108_FrontoParietal_L_-43_19.4_33.5'], dtype='<U37')],\n",
              "              [array(['ROI109_FrontoParietal_L_-40.2_23.6_23.3'], dtype='<U39')],\n",
              "              [array(['ROI110_DorsalAttn_L_-37.6_38.4_17.2'], dtype='<U35')],\n",
              "              [array(['ROI111_CinguloOperc_L_-51.8_-0.6_5'], dtype='<U34')],\n",
              "              [array(['ROI112_CinguloOperc_L_-48.6_7.5_11.1'], dtype='<U36')],\n",
              "              [array(['ROI113_DorsalAttn_L_-41.6_8.7_22.2'], dtype='<U34')],\n",
              "              [array(['ROI114_Default_L_-27.5_53.6_0'], dtype='<U29')],\n",
              "              [array(['ROI115_None_L_-23.4_61_-6.8'], dtype='<U27')],\n",
              "              [array(['ROI116_Default_L_-5.9_54.8_-11.3'], dtype='<U32')],\n",
              "              [array(['ROI117_Default_L_-6.8_38.2_-9.4'], dtype='<U31')],\n",
              "              [array(['ROI118_None_L_-31.8_2.6_-16.8'], dtype='<U29')],\n",
              "              [array(['ROI119_None_L_-34.7_35.6_-9.6'], dtype='<U29')],\n",
              "              [array(['ROI120_None_L_-22.5_32.1_-13.6'], dtype='<U30')],\n",
              "              [array(['ROI121_None_L_-23.8_52.2_-12.8'], dtype='<U30')],\n",
              "              [array(['ROI122_None_L_-17.3_46.6_-17.9'], dtype='<U30')],\n",
              "              [array(['ROI123_None_L_-13.3_24_-16.4'], dtype='<U28')],\n",
              "              [array(['ROI124_None_L_-8.9_45.5_-20.8'], dtype='<U29')],\n",
              "              [array(['ROI125_None_L_-2.5_33.8_-26.2'], dtype='<U29')],\n",
              "              [array(['ROI126_Default_L_-63.2_-28.7_-7.2'], dtype='<U33')],\n",
              "              [array(['ROI127_Default_L_-53.1_-11.4_-16'], dtype='<U32')],\n",
              "              [array(['ROI128_None_L_-53.2_-13_-29.2'], dtype='<U29')],\n",
              "              [array(['ROI129_None_L_-44.6_9_-37'], dtype='<U25')],\n",
              "              [array(['ROI130_RetrosplenialTemporal_L_-33.8_-33.2_-15.4'], dtype='<U48')],\n",
              "              [array(['ROI131_Visual_L_-28.8_-58.8_-9.1'], dtype='<U32')],\n",
              "              [array(['ROI132_Visual_L_-34.4_-63.9_-15.7'], dtype='<U33')],\n",
              "              [array(['ROI133_None_L_-55.1_-39.6_-16.2'], dtype='<U31')],\n",
              "              [array(['ROI134_None_L_-32_-3.9_-45.2'], dtype='<U28')],\n",
              "              [array(['ROI135_None_L_-38.6_-13_-26.9'], dtype='<U29')],\n",
              "              [array(['ROI136_Visual_L_-34.3_-43.8_-21.6'], dtype='<U33')],\n",
              "              [array(['ROI137_Visual_L_-5.4_-88_18.6'], dtype='<U29')],\n",
              "              [array(['ROI138_Visual_L_-8.6_-77.5_-3.5'], dtype='<U31')],\n",
              "              [array(['ROI139_Visual_L_-41.2_-72.1_-5.9'], dtype='<U32')],\n",
              "              [array(['ROI140_Visual_L_-25.2_-97.2_-7.9'], dtype='<U32')],\n",
              "              [array(['ROI141_Visual_L_-22.6_-81.7_-11.7'], dtype='<U33')],\n",
              "              [array(['ROI142_None_L_-20.5_-12.6_-23.7'], dtype='<U31')],\n",
              "              [array(['ROI143_RetrosplenialTemporal_L_-22.5_-37.1_-15'], dtype='<U46')],\n",
              "              [array(['ROI144_None_L_-22_-21.9_-17.4'], dtype='<U29')],\n",
              "              [array(['ROI145_Default_L_-15.9_48.6_37.2'], dtype='<U32')],\n",
              "              [array(['ROI146_Default_L_-19.5_56.3_27.5'], dtype='<U32')],\n",
              "              [array(['ROI147_CinguloOperc_L_-26.6_46.8_20.9'], dtype='<U37')],\n",
              "              [array(['ROI148_FrontoParietal_L_-21.3_63.1_1.9'], dtype='<U38')],\n",
              "              [array(['ROI149_FrontoParietal_L_-28.6_50.9_10.1'], dtype='<U39')],\n",
              "              [array(['ROI150_Default_L_-6.5_54.7_18.1'], dtype='<U31')],\n",
              "              [array(['ROI151_Default_L_-15.7_64.7_13.7'], dtype='<U32')],\n",
              "              [array(['ROI152_Default_L_-6_44.9_6.3'], dtype='<U28')],\n",
              "              [array(['ROI153_CinguloOperc_L_-28.8_38.3_28.2'], dtype='<U37')],\n",
              "              [array(['ROI154_Default_L_-26.2_26.6_38.8'], dtype='<U32')],\n",
              "              [array(['ROI155_DorsalAttn_L_-35.7_33.1_32'], dtype='<U33')],\n",
              "              [array(['ROI156_Default_L_-29.3_16.8_50.7'], dtype='<U32')],\n",
              "              [array(['ROI157_Default_L_-41.7_16.1_47.5'], dtype='<U32')],\n",
              "              [array(['ROI158_VentralAttn_L_-38.7_4.8_48.4'], dtype='<U35')],\n",
              "              [array(['ROI159_None_L_-50.8_6.9_-20.1'], dtype='<U29')],\n",
              "              [array(['ROI160_Auditory_L_-54.4_-1.4_-0.7'], dtype='<U33')],\n",
              "              [array(['ROI161_VentralAttn_L_-59_-18_-3'], dtype='<U31')],\n",
              "              [array(['ROI162_Default_R_12.3_-51.6_34.5'], dtype='<U32')],\n",
              "              [array(['ROI163_SMhand_R_20.8_-48.2_66.1'], dtype='<U31')],\n",
              "              [array(['ROI164_SMmouth_R_49.6_-7.4_36.1'], dtype='<U31')],\n",
              "              [array(['ROI165_Default_R_11.9_21.9_59.9'], dtype='<U31')],\n",
              "              [array(['ROI166_Visual_R_22_-84.6_23.7'], dtype='<U29')],\n",
              "              [array(['ROI167_FrontoParietal_R_47.9_-42.5_41.5'], dtype='<U39')],\n",
              "              [array(['ROI168_FrontoParietal_R_38.1_45.9_7.7'], dtype='<U37')],\n",
              "              [array(['ROI169_Visual_R_22.3_-46.5_-9.9'], dtype='<U31')],\n",
              "              [array(['ROI170_FrontoParietal_R_59.7_-41_-10.9'], dtype='<U38')],\n",
              "              [array(['ROI171_Auditory_R_33.6_-22.3_13'], dtype='<U31')],\n",
              "              [array(['ROI172_None_R_32.5_13.6_-30.5'], dtype='<U29')],\n",
              "              [array(['ROI173_CinguloParietal_R_7.6_-27_28.4'], dtype='<U37')],\n",
              "              [array(['ROI174_RetrosplenialTemporal_R_13.8_-54.1_10.9'], dtype='<U46')],\n",
              "              [array(['ROI175_Visual_R_15.5_-74.1_9.4'], dtype='<U30')],\n",
              "              [array(['ROI176_Visual_R_19.6_-45.3_-4.4'], dtype='<U31')],\n",
              "              [array(['ROI177_Visual_R_15.6_-59.6_-5'], dtype='<U29')],\n",
              "              [array(['ROI178_None_R_24.9_-35.9_-4.8'], dtype='<U29')],\n",
              "              [array(['ROI179_None_R_19.4_-29.9_-9.7'], dtype='<U29')],\n",
              "              [array(['ROI180_CinguloOperc_R_16.2_-33.1_43.2'], dtype='<U37')],\n",
              "              [array(['ROI181_CinguloOperc_R_6.7_5_55.9'], dtype='<U32')],\n",
              "              [array(['ROI182_FrontoParietal_R_7_25.7_47.3'], dtype='<U35')],\n",
              "              [array(['ROI183_Salience_R_8.4_34.7_22.6'], dtype='<U31')],\n",
              "              [array(['ROI184_Default_R_7.7_44.1_5.5'], dtype='<U29')],\n",
              "              [array(['ROI185_CinguloOperc_R_8.6_4.2_40.1'], dtype='<U34')],\n",
              "              [array(['ROI186_Default_R_3_-19.6_37.9'], dtype='<U29')],\n",
              "              [array(['ROI187_CinguloOperc_R_8.8_10.8_45.9'], dtype='<U35')],\n",
              "              [array(['ROI188_CinguloOperc_R_6_21.8_32.4'], dtype='<U33')],\n",
              "              [array(['ROI189_DorsalAttn_R_10.3_-57.3_58.3'], dtype='<U35')],\n",
              "              [array(['ROI190_SMhand_R_16.5_-32.8_67.7'], dtype='<U31')],\n",
              "              [array(['ROI191_SMhand_R_4.8_-27.1_64.8'], dtype='<U30')],\n",
              "              [array(['ROI192_CinguloOperc_R_16.2_0.8_67.5'], dtype='<U35')],\n",
              "              [array(['ROI193_SMhand_R_11.9_-40.7_67'], dtype='<U29')],\n",
              "              [array(['ROI194_SMhand_R_5.1_-17.1_51.6'], dtype='<U30')],\n",
              "              [array(['ROI195_SMhand_R_6.8_-8.1_50.9'], dtype='<U29')],\n",
              "              [array(['ROI196_CinguloOperc_R_8_-6.2_63.7'], dtype='<U33')],\n",
              "              [array(['ROI197_SMmouth_R_42.3_-11_47.3'], dtype='<U30')],\n",
              "              [array(['ROI198_CinguloOperc_R_42.5_-2.3_47.2'], dtype='<U36')],\n",
              "              [array(['ROI199_DorsalAttn_R_29.2_1.9_52.4'], dtype='<U33')],\n",
              "              [array(['ROI200_Default_R_21.9_21_46.2'], dtype='<U29')],\n",
              "              [array(['ROI201_SMhand_R_38.1_-22.4_60.3'], dtype='<U31')],\n",
              "              [array(['ROI202_SMhand_R_19.7_-25_65.2'], dtype='<U29')],\n",
              "              [array(['ROI203_DorsalAttn_R_29.9_-7.8_47.4'], dtype='<U34')],\n",
              "              [array(['ROI204_SMhand_R_12.4_-28.3_69.6'], dtype='<U31')],\n",
              "              [array(['ROI205_SMhand_R_29.2_-13.5_64.2'], dtype='<U31')],\n",
              "              [array(['ROI206_SMhand_R_17_-16.9_70.9'], dtype='<U29')],\n",
              "              [array(['ROI207_SMhand_R_20.9_-6.4_65'], dtype='<U28')],\n",
              "              [array(['ROI208_DorsalAttn_R_22.6_5.6_57.6'], dtype='<U33')],\n",
              "              [array(['ROI209_SMhand_R_29.5_-42.5_60.4'], dtype='<U31')],\n",
              "              [array(['ROI210_SMhand_R_34.2_-40.6_51.6'], dtype='<U31')],\n",
              "              [array(['ROI211_DorsalAttn_R_38.8_-42.6_40.4'], dtype='<U35')],\n",
              "              [array(['ROI212_SMmouth_R_53.9_-8.3_26.1'], dtype='<U31')],\n",
              "              [array(['ROI213_SMhand_R_39.6_-31.5_39.7'], dtype='<U31')],\n",
              "              [array(['ROI214_SMhand_R_28_-34.8_63.1'], dtype='<U29')],\n",
              "              [array(['ROI215_SMhand_R_39.2_-34.6_57.5'], dtype='<U31')],\n",
              "              [array(['ROI216_SMhand_R_37.3_-25.9_50.9'], dtype='<U31')],\n",
              "              [array(['ROI217_SMhand_R_48.7_-26.1_52.2'], dtype='<U31')],\n",
              "              [array(['ROI218_SMmouth_R_47.8_-15.1_49.3'], dtype='<U32')],\n",
              "              [array(['ROI219_CinguloOperc_R_57.5_-40.3_34.7'], dtype='<U37')],\n",
              "              [array(['ROI220_Default_R_48.9_-53_28.6'], dtype='<U30')],\n",
              "              [array(['ROI221_VentralAttn_R_57.5_-45.3_9'], dtype='<U33')],\n",
              "              [array(['ROI222_VentralAttn_R_60.9_-38.7_1.7'], dtype='<U35')],\n",
              "              [array(['ROI223_CinguloOperc_R_54.9_-27_29.6'], dtype='<U35')],\n",
              "              [array(['ROI224_Auditory_R_36.4_-30.7_19.4'], dtype='<U33')],\n",
              "              [array(['ROI225_Default_R_62.5_-25.6_-5.5'], dtype='<U32')],\n",
              "              [array(['ROI226_VentralAttn_R_57.1_-17_-2.6'], dtype='<U34')],\n",
              "              [array(['ROI227_Auditory_R_53.8_-15.8_5.2'], dtype='<U32')],\n",
              "              [array(['ROI228_VentralAttn_R_47.4_-39.6_13.2'], dtype='<U36')],\n",
              "              [array(['ROI229_VentralAttn_R_45.5_-37.3_3.4'], dtype='<U35')],\n",
              "              [array(['ROI230_Auditory_R_59.2_-38.6_14.6'], dtype='<U33')],\n",
              "              [array(['ROI231_VentralAttn_R_48.5_-26.5_-0.1'], dtype='<U36')],\n",
              "              [array(['ROI232_Auditory_R_61.7_-24_1.3'], dtype='<U30')],\n",
              "              [array(['ROI233_Auditory_R_60_-25.2_10.2'], dtype='<U31')],\n",
              "              [array(['ROI234_CinguloOperc_R_38.8_-14.4_-5'], dtype='<U35')],\n",
              "              [array(['ROI235_CinguloOperc_R_39.7_1.2_-13.1'], dtype='<U36')],\n",
              "              [array(['ROI236_DorsalAttn_R_36.8_37.8_13.1'], dtype='<U34')],\n",
              "              [array(['ROI237_VentralAttn_R_52.5_23.7_10.3'], dtype='<U35')],\n",
              "              [array(['ROI238_CinguloOperc_R_36.7_5.2_12.7'], dtype='<U35')],\n",
              "              [array(['ROI239_Auditory_R_38.4_-12.2_20'], dtype='<U31')],\n",
              "              [array(['ROI240_FrontoParietal_R_42.8_48.3_-5.1'], dtype='<U38')],\n",
              "              [array(['ROI241_VentralAttn_R_48.1_38.3_-9.2'], dtype='<U35')],\n",
              "              [array(['ROI242_VentralAttn_R_45.2_30.7_-5.6'], dtype='<U35')],\n",
              "              [array(['ROI243_VentralAttn_R_27.4_19.7_-14.9'], dtype='<U36')],\n",
              "              [array(['ROI244_Auditory_R_36.6_-10_12.4'], dtype='<U31')],\n",
              "              [array(['ROI245_CinguloOperc_R_39.6_10.4_-1.6'], dtype='<U36')],\n",
              "              [array(['ROI246_CinguloOperc_R_36.5_5.7_6'], dtype='<U32')],\n",
              "              [array(['ROI247_Salience_R_30.6_22.8_-4.7'], dtype='<U32')],\n",
              "              [array(['ROI248_CinguloOperc_R_33.7_22.6_3.7'], dtype='<U35')],\n",
              "              [array(['ROI249_CinguloOperc_R_34_24.4_10'], dtype='<U32')],\n",
              "              [array(['ROI250_DorsalAttn_R_48.1_38.4_2.4'], dtype='<U33')],\n",
              "              [array(['ROI251_Visual_R_26.8_-55_54.2'], dtype='<U29')],\n",
              "              [array(['ROI252_DorsalAttn_R_23_-66.4_51.8'], dtype='<U33')],\n",
              "              [array(['ROI253_DorsalAttn_R_32.3_-63.6_33.8'], dtype='<U35')],\n",
              "              [array(['ROI254_CinguloParietal_R_15.6_-69.5_39.6'], dtype='<U40')],\n",
              "              [array(['ROI255_Visual_R_17.6_-78.3_34'], dtype='<U29')],\n",
              "              [array(['ROI256_Visual_R_7.7_-85.6_31.6'], dtype='<U30')],\n",
              "              [array(['ROI257_Default_R_7.4_-69.3_49.9'], dtype='<U31')],\n",
              "              [array(['ROI258_Visual_R_35.4_-77.1_21.1'], dtype='<U31')],\n",
              "              [array(['ROI259_Default_R_46.5_-67.3_36.2'], dtype='<U32')],\n",
              "              [array(['ROI260_FrontoParietal_R_41.5_-53.5_44'], dtype='<U37')],\n",
              "              [array(['ROI261_FrontoParietal_R_35.7_-56.7_45.2'], dtype='<U39')],\n",
              "              [array(['ROI262_DorsalAttn_R_33.5_-48.2_49.4'], dtype='<U35')],\n",
              "              [array(['ROI263_Visual_R_31.7_-85.7_2.4'], dtype='<U30')],\n",
              "              [array(['ROI264_Visual_R_43.8_-67.2_2'], dtype='<U28')],\n",
              "              [array(['ROI265_Visual_R_47.3_-52.4_-11.7'], dtype='<U32')],\n",
              "              [array(['ROI266_DorsalAttn_R_57_-53.8_-1.1'], dtype='<U33')],\n",
              "              [array(['ROI267_Visual_R_49_-54.5_8.8'], dtype='<U28')],\n",
              "              [array(['ROI268_Auditory_R_60.9_-2.2_10.7'], dtype='<U32')],\n",
              "              [array(['ROI269_Auditory_R_54.2_-13.6_16.9'], dtype='<U33')],\n",
              "              [array(['ROI270_SMhand_R_53_-22.7_39.1'], dtype='<U29')],\n",
              "              [array(['ROI271_DorsalAttn_R_47.3_2_37.6'], dtype='<U31')],\n",
              "              [array(['ROI272_FrontoParietal_R_37.8_28.7_35.6'], dtype='<U38')],\n",
              "              [array(['ROI273_FrontoParietal_R_41.8_29.1_21.6'], dtype='<U38')],\n",
              "              [array(['ROI274_CinguloOperc_R_50.1_3_3.9'], dtype='<U32')],\n",
              "              [array(['ROI275_DorsalAttn_R_46.6_7.8_19.3'], dtype='<U33')],\n",
              "              [array(['ROI276_FrontoParietal_R_38.6_18.8_25.5'], dtype='<U38')],\n",
              "              [array(['ROI277_FrontoParietal_R_28.4_57_-5.1'], dtype='<U36')],\n",
              "              [array(['ROI278_Default_R_4.8_65.1_-7.1'], dtype='<U30')],\n",
              "              [array(['ROI279_Default_R_7.2_48.4_-10.1'], dtype='<U31')],\n",
              "              [array(['ROI280_None_R_2.9_18.7_-23.2'], dtype='<U28')],\n",
              "              [array(['ROI281_None_R_35.1_37.3_-8.4'], dtype='<U28')],\n",
              "              [array(['ROI282_None_R_25.4_8.9_-15.7'], dtype='<U28')],\n",
              "              [array(['ROI283_None_R_21.2_30.3_-15.2'], dtype='<U29')],\n",
              "              [array(['ROI284_None_R_21.6_51.1_-14.1'], dtype='<U29')],\n",
              "              [array(['ROI285_None_R_11.9_25.7_-24.8'], dtype='<U29')],\n",
              "              [array(['ROI286_None_R_13.5_20.3_-15.2'], dtype='<U29')],\n",
              "              [array(['ROI287_None_R_10.9_39.1_-19.7'], dtype='<U29')],\n",
              "              [array(['ROI288_None_R_2.2_39_-25.6'], dtype='<U26')],\n",
              "              [array(['ROI289_None_R_62.3_-26.4_-16'], dtype='<U28')],\n",
              "              [array(['ROI290_Default_R_57.5_-7.4_-16.4'], dtype='<U32')],\n",
              "              [array(['ROI291_None_R_54.7_-7.8_-26.9'], dtype='<U29')],\n",
              "              [array(['ROI292_None_R_45.2_13.6_-30.1'], dtype='<U29')],\n",
              "              [array(['ROI293_Visual_R_31.2_-45.6_-5.8'], dtype='<U31')],\n",
              "              [array(['ROI294_RetrosplenialTemporal_R_34.6_-35.6_-12.3'], dtype='<U47')],\n",
              "              [array(['ROI295_RetrosplenialTemporal_R_34.6_-23.9_-20.4'], dtype='<U47')],\n",
              "              [array(['ROI296_None_R_20.1_-21.4_-21.5'], dtype='<U30')],\n",
              "              [array(['ROI297_None_R_28_-0.4_-37.3'], dtype='<U27')],\n",
              "              [array(['ROI298_Visual_R_26.9_-69.1_-6.6'], dtype='<U31')],\n",
              "              [array(['ROI299_Visual_R_34.9_-44_-20'], dtype='<U28')],\n",
              "              [array(['ROI300_None_R_36.8_7.7_-37.9'], dtype='<U28')],\n",
              "              [array(['ROI301_None_R_54.5_-9.6_-37'], dtype='<U27')],\n",
              "              [array(['ROI302_None_R_56.4_-27_-19.4'], dtype='<U28')],\n",
              "              [array(['ROI303_None_R_31.1_2.2_-46.1'], dtype='<U28')],\n",
              "              [array(['ROI304_None_R_39.5_-11.9_-29.7'], dtype='<U30')],\n",
              "              [array(['ROI305_None_R_31.6_-9.4_-35.5'], dtype='<U29')],\n",
              "              [array(['ROI306_None_R_43.4_-24.1_-20.8'], dtype='<U30')],\n",
              "              [array(['ROI307_Visual_R_13.8_-92.3_14.7'], dtype='<U31')],\n",
              "              [array(['ROI308_Visual_R_10.5_-73.8_-1.5'], dtype='<U31')],\n",
              "              [array(['ROI309_Visual_R_20.4_-87.3_-6.6'], dtype='<U31')],\n",
              "              [array(['ROI310_Visual_R_5.1_-80.2_23.1'], dtype='<U30')],\n",
              "              [array(['ROI311_Visual_R_14.6_-70.3_23.3'], dtype='<U31')],\n",
              "              [array(['ROI312_None_R_19.5_-10.8_-24.9'], dtype='<U30')],\n",
              "              [array(['ROI313_RetrosplenialTemporal_R_24.5_-36.2_-13.2'], dtype='<U47')],\n",
              "              [array(['ROI314_None_R_30.4_-18.8_-19.4'], dtype='<U30')],\n",
              "              [array(['ROI315_Default_R_21_32.8_42.1'], dtype='<U29')],\n",
              "              [array(['ROI316_Default_R_21.4_42.8_35.1'], dtype='<U31')],\n",
              "              [array(['ROI317_CinguloOperc_R_24.4_50.8_24.3'], dtype='<U36')],\n",
              "              [array(['ROI318_CinguloOperc_R_31.3_39.7_25.6'], dtype='<U36')],\n",
              "              [array(['ROI319_FrontoParietal_R_23.5_59.1_4.9'], dtype='<U37')],\n",
              "              [array(['ROI320_FrontoParietal_R_30.9_52.2_9.9'], dtype='<U37')],\n",
              "              [array(['ROI321_Default_R_16_61_19.8'], dtype='<U27')],\n",
              "              [array(['ROI322_Default_R_8.2_53.8_14'], dtype='<U28')],\n",
              "              [array(['ROI323_Default_R_5.9_54.9_29.4'], dtype='<U30')],\n",
              "              [array(['ROI324_Default_R_13.8_46.7_42.1'], dtype='<U31')],\n",
              "              [array(['ROI325_Default_R_6.8_44.5_34.8'], dtype='<U30')],\n",
              "              [array(['ROI326_Default_R_30.6_18.9_48.7'], dtype='<U31')],\n",
              "              [array(['ROI327_FrontoParietal_R_42.4_19.5_48.2'], dtype='<U38')],\n",
              "              [array(['ROI328_FrontoParietal_R_38.9_9.6_42.7'], dtype='<U37')],\n",
              "              [array(['ROI329_Auditory_R_39.7_-22.5_2.6'], dtype='<U32')],\n",
              "              [array(['ROI330_Auditory_R_55.8_2_-2'], dtype='<U27')],\n",
              "              [array(['ROI331_Default_R_54.4_1.1_-12.9'], dtype='<U31')],\n",
              "              [array(['ROI332_VentralAttn_R_57.1_-6.3_-7.7'], dtype='<U35')],\n",
              "              [array(['ROI333_VentralAttn_R_46.6_-21.5_-8.5'], dtype='<U36')]],\n",
              "             dtype=object)                                                                ],\n",
              "      dtype=object)"
            ]
          },
          "metadata": {},
          "execution_count": 9
        }
      ],
      "source": [
        "print(fmri_data['meta']['rois'][0][0][0].shape)\n",
        "fmri_data['meta']['rois'][0][0][0]"
      ]
    },
    {
      "cell_type": "markdown",
      "metadata": {
        "id": "VIjcZLnhxDr5"
      },
      "source": [
        "Note that the ROIs are grouped into 15 arrays, corresponding to the 15 networks. Therefore, if we want to identify the ROIs corresponding to `languageLH`, which is the eighth network, we just have to consider the ROIs from the eighth array. Let's put things together in a more structured way."
      ]
    },
    {
      "cell_type": "code",
      "execution_count": 10,
      "metadata": {
        "colab": {
          "base_uri": "https://localhost:8080/"
        },
        "id": "LbZBDYYIxBeU",
        "outputId": "803840e0-de3f-40be-bcc7-02acbfeb00f2"
      },
      "outputs": [
        {
          "output_type": "execute_result",
          "data": {
            "text/plain": [
              "[np.str_('L_PostTemp'),\n",
              " np.str_('L_AntTemp'),\n",
              " np.str_('L_AngG'),\n",
              " np.str_('L_IFG'),\n",
              " np.str_('L_MFG'),\n",
              " np.str_('L_IFGorb')]"
            ]
          },
          "metadata": {},
          "execution_count": 10
        }
      ],
      "source": [
        "network_of_interest = 'languageLH'\n",
        "networks = [network[0] for network in fmri_data['meta']['atlases'][0][0][0]]\n",
        "nw_index = networks.index(network_of_interest)\n",
        "rois_of_interest = [roi[0][0] for roi in fmri_data['meta']['rois'][0][0][0][nw_index]]\n",
        "rois_of_interest"
      ]
    },
    {
      "cell_type": "markdown",
      "metadata": {
        "id": "U-Yxe32ryeur"
      },
      "source": [
        "Great! Now we know which ROIs we should consider. Next, we'll have to map them to specific indexes. Note that the mapping, in principle, can be done even without knowing how each ROI is called, but knowing about ROIs will help you make sense of all the for loops we're using."
      ]
    },
    {
      "cell_type": "code",
      "source": [
        "nw_columns = fmri_data['meta']['roiColumns'][0][0][0][nw_index]\n",
        "column_indexes = np.concat([nw_columns[roi][0].flatten()-1 for roi in range(len(nw_columns))], axis=0)\n",
        "column_indexes.shape"
      ],
      "metadata": {
        "colab": {
          "base_uri": "https://localhost:8080/"
        },
        "id": "Ho39y-mm3lUE",
        "outputId": "65951083-53d7-41f0-f51f-41f8037002fa"
      },
      "execution_count": 11,
      "outputs": [
        {
          "output_type": "execute_result",
          "data": {
            "text/plain": [
              "(5716,)"
            ]
          },
          "metadata": {},
          "execution_count": 11
        }
      ]
    },
    {
      "cell_type": "markdown",
      "source": [
        "Wondering why we added the -1 in the list comprehension above? That's because indexing starts from 1 in matlab so, if we want to make sure to retrieve the right columns in Python, we have to subtract 1.\n",
        "\n",
        "⚠️ Note that there's a mistake in how the authors saved data for the visual network, meaning that you'll get 16 ROIs if you look at `fmri_data['meta']['rois']` but only 15 arrays if you look at `fmri_data['meta']['roiColumns']`. In practice, that's not a problem, and you can safely work with the 15 arrays you have :)\n",
        "\n",
        "Great! Now, one last step. What if we want to isolate the brain responses corresponding to a specific concept, e.g., 'ability'? Concepts are stored in `fmri_data['keyConcept']` so, again, it's just a matter of index mapping."
      ],
      "metadata": {
        "id": "_06MgOR7-PC3"
      }
    },
    {
      "cell_type": "code",
      "execution_count": null,
      "metadata": {
        "colab": {
          "base_uri": "https://localhost:8080/"
        },
        "id": "FoKSjxBex51A",
        "outputId": "d0632992-6d71-4678-fb99-5210d5a33762"
      },
      "outputs": [
        {
          "output_type": "stream",
          "name": "stdout",
          "text": [
            "[[array(['ability'], dtype='<U7')]\n",
            " [array(['accomplished'], dtype='<U12')]\n",
            " [array(['angry'], dtype='<U5')]]\n",
            "Index for 'ability': 0\n"
          ]
        }
      ],
      "source": [
        "print(fmri_data['keyConcept'][:3])\n",
        "\n",
        "all_concepts = [concept[0][0]for concept in fmri_data['keyConcept']]\n",
        "ability_index = all_concepts.index('ability')\n",
        "print(f\"Index for 'ability': {ability_index}\")"
      ]
    },
    {
      "cell_type": "markdown",
      "source": [
        "Putting all things together, if you want to isolate the brain responses in the `languageLH` network for the concept 'ability', you just have to to the following:"
      ],
      "metadata": {
        "id": "Sa1Ym0l9AA1i"
      }
    },
    {
      "cell_type": "code",
      "execution_count": null,
      "metadata": {
        "colab": {
          "base_uri": "https://localhost:8080/"
        },
        "id": "jDzU30V9xpwQ",
        "outputId": "debbe978-c6e6-4f00-8310-93703adbea75"
      },
      "outputs": [
        {
          "output_type": "execute_result",
          "data": {
            "text/plain": [
              "(5716,)"
            ]
          },
          "metadata": {},
          "execution_count": 14
        }
      ],
      "source": [
        "ability_fmri_data = fmri_data['examples'][ability_index, column_indexes]\n",
        "ability_fmri_data.shape"
      ]
    },
    {
      "cell_type": "markdown",
      "source": [
        "If you lived through this index mapping nightmare, here's your reward: A function for doing all we've seen so far altogether! This function takes as input the raw matlap data and the name of the brain network of interest and outputs a `180xn_rois` Numpy array (where 180 is the number of concept words and `n_rois` is the number of ROIs that are relevant for the brain network of interest)."
      ],
      "metadata": {
        "id": "TwWzK97qAoMH"
      }
    },
    {
      "cell_type": "code",
      "execution_count": 12,
      "metadata": {
        "id": "05XLxEx1rYcq"
      },
      "outputs": [],
      "source": [
        "def get_network_activations(fmri_data_matlab, network_name):\n",
        "\n",
        "  networks = [atlas[0] for atlas in fmri_data_matlab['meta']['atlases'][0][0][0]]\n",
        "  idx = networks.index(network_name)\n",
        "\n",
        "  roi_cols = fmri_data_matlab['meta']['roiColumns'][0][0][0][idx]\n",
        "  column_indexes = np.concat([roi_cols[roi][0].flatten()-1 for roi in range(len(roi_cols))], axis=0)\n",
        "\n",
        "  network_responses = fmri_data_matlab['examples'][:, column_indexes]\n",
        "\n",
        "  return network_responses"
      ]
    },
    {
      "cell_type": "code",
      "source": [
        "# ---------- 1. Build group-level 180 × V brain matrix -------\n",
        "import os, tarfile\n",
        "brain_mats = []\n",
        "\n",
        "NETWORK      = \"languageLH\"\n",
        "SEED         = 123\n",
        "np.random.seed(SEED)\n",
        "random.seed(SEED)\n",
        "drive_root = Path('/content/drive/MyDrive/Pereira')   # adjust if needed\n",
        "participant_ids = [f\"M{idx:02d}\" for idx in range(1, 4)]\n",
        "brain_rdms = []\n",
        "\n",
        "\n",
        "for pid in participant_ids:\n",
        "    tar_path = drive_root / f\"{pid}.tar\"\n",
        "\n",
        "    if not (Path(pid) / 'data_180concepts_pictures.mat').exists():\n",
        "        print(f\"Extracting {pid}.tar …\")\n",
        "        tarfile.open(tar_path).extractall(path='.')   # untar into current dir\n",
        "    else:\n",
        "        print(f\"{pid} already extracted ✔\")           # skip tar -xf\n",
        "\n",
        "    fmri_mat = loadmat(f\"{pid}/data_180concepts_pictures.mat\")\n",
        "    # ---- do your per-subject processing here ----\n",
        "    print(pid, \"loaded :\", fmri_mat['examples'].shape)\n",
        "\n",
        "    fmri_data   = get_network_activations(fmri_mat, NETWORK)   # (1080, V)\n",
        "    rdm = build_rdm(fmri_data)                                  # 180 × 180  (cosine distance)\n",
        "    brain_rdms.append(rdm)\n",
        "\n",
        "\n",
        "group_rdm = np.mean(brain_rdms, axis=0)                 # element-wise mean\n",
        "print(\"Group RDM shape:\", group_rdm.shape)              # (180, 180)"
      ],
      "metadata": {
        "colab": {
          "base_uri": "https://localhost:8080/"
        },
        "id": "1r7u0JGwbg5J",
        "outputId": "57bdb93e-6e17-4b1b-be40-f36cda021296"
      },
      "execution_count": 31,
      "outputs": [
        {
          "output_type": "stream",
          "name": "stdout",
          "text": [
            "M01 already extracted ✔\n",
            "M01 loaded : (180, 190042)\n",
            "Shape of X: (180, 5716)\n",
            "(180, 180)\n",
            "M02 already extracted ✔\n",
            "M02 loaded : (180, 170712)\n",
            "Shape of X: (180, 4930)\n",
            "(180, 180)\n",
            "M03 already extracted ✔\n",
            "M03 loaded : (180, 148540)\n",
            "Shape of X: (180, 3616)\n",
            "(180, 180)\n",
            "Group RDM shape: (16110,)\n"
          ]
        }
      ]
    },
    {
      "cell_type": "markdown",
      "source": [
        "As a last step, let's see how we can construct a representational dissimilarity matrix (RDM) from this data.\n",
        "\n"
      ],
      "metadata": {
        "id": "iY7Uvv5VExqs"
      }
    },
    {
      "cell_type": "code",
      "source": [
        "from scipy.spatial.distance import pdist, squareform\n",
        "\n",
        "def build_rdm(fmri_data):\n",
        "\n",
        "  # X  = (180, V) activation matrix or embedding matrix\n",
        "  print(\"Shape of X:\", fmri_data.shape)\n",
        "  X_norm = normalize(fmri_data, axis=1)  # row-wise L2 normalisation\n",
        "\n",
        "  # obtain RDM with cosine distances\n",
        "  rdm = squareform(pdist(X_norm, metric='cosine'))\n",
        "  print(rdm.shape)\n",
        "\n",
        "  # select values from the upper triangle\n",
        "  n = rdm.shape[0]\n",
        "  rdm_up_tri = rdm[np.triu_indices(n, k=1, m=180)] # k=1 means that we don't want to include values on the diagonal\n",
        "\n",
        "  return rdm_up_tri"
      ],
      "metadata": {
        "id": "3UUXP6VzQWBA"
      },
      "execution_count": 30,
      "outputs": []
    },
    {
      "cell_type": "code",
      "source": [
        "from scipy.spatial.distance import pdist, squareform\n",
        "\n",
        "# get fMRI responses for languageLH\n",
        "langLH_fmri_data = get_network_activations(fmri_data, 'languageLH')\n",
        "print(langLH_fmri_data.shape)\n",
        "\n",
        "# obtain RDM with cosine distances\n",
        "rdm = squareform(pdist(fmri_data))\n",
        "print(rdm.shape)\n",
        "\n",
        "# select values from the upper triangle\n",
        "rdm_up_tri = rdm[np.triu_indices(n=180, k=1, m=180)] # k=1 means that we don't want to include values on the diagonal\n",
        "rdm_up_tri.shape"
      ],
      "metadata": {
        "colab": {
          "base_uri": "https://localhost:8080/"
        },
        "id": "ocMIxaVaFjfj",
        "outputId": "a8f442b7-a008-449a-a14b-1191c0e69bce"
      },
      "execution_count": 16,
      "outputs": [
        {
          "output_type": "stream",
          "name": "stdout",
          "text": [
            "(180, 5716)\n",
            "(180, 180)\n"
          ]
        },
        {
          "output_type": "execute_result",
          "data": {
            "text/plain": [
              "(16110,)"
            ]
          },
          "metadata": {},
          "execution_count": 16
        }
      ]
    },
    {
      "cell_type": "markdown",
      "source": [
        "Great! The array `rdm_up_tri` is what you should correlate with the corresponding array from model representations—good luck! :)"
      ],
      "metadata": {
        "id": "6YLtY_ORHTM6"
      }
    }
  ],
  "metadata": {
    "colab": {
      "provenance": [],
      "include_colab_link": true
    },
    "kernelspec": {
      "display_name": "Python 3",
      "name": "python3"
    },
    "language_info": {
      "name": "python"
    }
  },
  "nbformat": 4,
  "nbformat_minor": 0
}